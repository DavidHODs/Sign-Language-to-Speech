{
  "nbformat": 4,
  "nbformat_minor": 0,
  "metadata": {
    "colab": {
      "name": "deepstack.ipynb",
      "provenance": [],
      "collapsed_sections": []
    },
    "kernelspec": {
      "name": "python3",
      "display_name": "Python 3"
    },
    "language_info": {
      "name": "python"
    },
    "accelerator": "GPU"
  },
  "cells": [
    {
      "cell_type": "markdown",
      "metadata": {
        "id": "qflpRcCDJpaP"
      },
      "source": [
        "## **Cloning the DeepStack Trainer**"
      ]
    },
    {
      "cell_type": "code",
      "metadata": {
        "id": "TDm6blUk7lZP"
      },
      "source": [
        "!git clone https://github.com/johnolafenwa/deepstack-trainer\n",
        "%cd deepstack-trainer\n",
        "!pip install -r requirements.txt\n",
        "!pip install torch==1.7.0+cu110 torchvision==0.8.1+cu110 torchaudio===0.7.0 -f https://download.pytorch.org/whl/torch_stable.html"
      ],
      "execution_count": null,
      "outputs": []
    },
    {
      "cell_type": "markdown",
      "metadata": {
        "id": "EMu6eeCMKI8R"
      },
      "source": [
        "### **Adding the DataSet + DeepStack Training**\n",
        "\n",
        "Adjustable Parameters\n",
        "\n",
        "\n",
        "\n",
        "--model DeepStack trainer supports five model types, in order of increasing accuracy they are \"yolov5s\", \"yolov5m\", \"yolov5l\", \"yolov5x\". The default is yolov5m, the highest accuracy onces like yolov5l and yolov5x are much slower and will require higher end compute to deploy. The fastest yolov5s is highly recommended if deploying on the nvidia jetson.\n",
        "\n",
        "--batch-size This is the number of images processed at once, you can set this to a higher number like 32 or 64 as your gpu memory allows, if you use a gpu with lower memory, you can set this to a lower number like 8 or less if you run into memory problems. The default value is 16\n",
        "\n",
        "--epochs This is the number of iterations over your entire dataset, the default value is 300. You can always run with lesser epochs or more epochs, accuracy increases as you run more epochs.\n",
        "\n",
        "\n",
        "\n"
      ]
    },
    {
      "cell_type": "code",
      "metadata": {
        "id": "HgEtrpww8wdG"
      },
      "source": [
        "!python3 train.py --model \"yolov5s\" --epochs 300 --batch-size 32 --dataset-path \"/content/drive/MyDrive/DeepStack/Image Annotation/Image Labelling/train\""
      ],
      "execution_count": null,
      "outputs": []
    }
  ]
}